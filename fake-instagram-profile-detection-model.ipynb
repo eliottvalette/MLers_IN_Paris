{
 "cells": [
  {
   "cell_type": "markdown",
   "metadata": {},
   "source": [
    "# Importing Libraries and Datasets"
   ]
  },
  {
   "cell_type": "code",
   "execution_count": 1,
   "metadata": {
    "execution": {
     "iopub.execute_input": "2023-01-09T20:08:00.36803Z",
     "iopub.status.busy": "2023-01-09T20:08:00.367522Z",
     "iopub.status.idle": "2023-01-09T20:08:00.380439Z",
     "shell.execute_reply": "2023-01-09T20:08:00.378993Z",
     "shell.execute_reply.started": "2023-01-09T20:08:00.367993Z"
    },
    "trusted": true
   },
   "outputs": [],
   "source": [
    "import pandas as pd\n",
    "import matplotlib.pyplot as plt\n",
    "import numpy as np\n",
    "import seaborn as sns\n",
    "\n",
    "import torch\n",
    "import torch.nn as nn\n",
    "import torch.optim as optim\n",
    "from torch.utils.data import Dataset, DataLoader, TensorDataset\n",
    "\n",
    "from sklearn import metrics\n",
    "from sklearn.preprocessing import LabelEncoder\n",
    "from sklearn.metrics import classification_report, accuracy_score, roc_curve, confusion_matrix\n",
    "from xgboost import XGBClassifier\n",
    "\n",
    "import os\n",
    "for dirname, _, filenames in os.walk('/kaggle/input'):\n",
    "    for filename in filenames:\n",
    "        print(os.path.join(dirname, filename))"
   ]
  },
  {
   "cell_type": "code",
   "execution_count": 2,
   "metadata": {
    "execution": {
     "iopub.execute_input": "2023-01-09T20:09:03.490319Z",
     "iopub.status.busy": "2023-01-09T20:09:03.488583Z",
     "iopub.status.idle": "2023-01-09T20:09:03.500151Z",
     "shell.execute_reply": "2023-01-09T20:09:03.49685Z",
     "shell.execute_reply.started": "2023-01-09T20:09:03.490252Z"
    },
    "trusted": true
   },
   "outputs": [],
   "source": [
    "import warnings\n",
    "\n",
    "warnings.filterwarnings(\"ignore\")\n",
    "\n",
    "\n",
    "def fxn():\n",
    "    warnings.warn(\"deprecated\", DeprecationWarning)\n",
    "\n",
    "with warnings.catch_warnings():\n",
    "    warnings.filterwarnings(\"ignore\", category=DeprecationWarning)\n",
    "    fxn()"
   ]
  },
  {
   "cell_type": "code",
   "execution_count": null,
   "metadata": {},
   "outputs": [],
   "source": [
    "# Load the training dataset\n",
    "instagram_df_train=pd.read_csv('kaggle/input/instagram-fake-spammer-genuine-accounts/train.csv')\n",
    "instagram_df_train"
   ]
  },
  {
   "cell_type": "code",
   "execution_count": null,
   "metadata": {},
   "outputs": [],
   "source": [
    "# Load the testing data\n",
    "instagram_df_test=pd.read_csv('kaggle/input/instagram-fake-spammer-genuine-accounts/test.csv')\n",
    "instagram_df_test"
   ]
  },
  {
   "cell_type": "markdown",
   "metadata": {},
   "source": [
    "# Statistical Analysis"
   ]
  },
  {
   "cell_type": "code",
   "execution_count": null,
   "metadata": {},
   "outputs": [],
   "source": [
    "instagram_df_train.head()"
   ]
  },
  {
   "cell_type": "code",
   "execution_count": null,
   "metadata": {},
   "outputs": [],
   "source": [
    "instagram_df_train.tail()"
   ]
  },
  {
   "cell_type": "code",
   "execution_count": null,
   "metadata": {},
   "outputs": [],
   "source": [
    "# Getting dataframe info\n",
    "instagram_df_train.info()"
   ]
  },
  {
   "cell_type": "code",
   "execution_count": null,
   "metadata": {},
   "outputs": [],
   "source": [
    "# Get the statistical summary of the dataframe\n",
    "instagram_df_train.describe()"
   ]
  },
  {
   "cell_type": "code",
   "execution_count": null,
   "metadata": {},
   "outputs": [],
   "source": [
    "# Checking if null values exist\n",
    "instagram_df_train.isnull().sum()"
   ]
  },
  {
   "cell_type": "code",
   "execution_count": null,
   "metadata": {},
   "outputs": [],
   "source": [
    "# Get the number of unique values in the \"profile pic\" feature\n",
    "instagram_df_train['profile pic'].value_counts()"
   ]
  },
  {
   "cell_type": "code",
   "execution_count": null,
   "metadata": {},
   "outputs": [],
   "source": [
    "# Get the number of unique values in \"fake\" (Target column)\n",
    "instagram_df_train['fake'].value_counts()"
   ]
  },
  {
   "cell_type": "markdown",
   "metadata": {},
   "source": [
    "# Data Visualization"
   ]
  },
  {
   "cell_type": "code",
   "execution_count": null,
   "metadata": {},
   "outputs": [],
   "source": [
    "# Visualization of real vs fake profiles distribution\n",
    "plt.figure(figsize=(10, 6))\n",
    "ax = sns.countplot(x='fake', data=instagram_df_train, palette=['#3498db', '#e74c3c'])\n",
    "plt.title('Instagram Profile Distribution: Real vs Fake', fontsize=16)\n",
    "plt.xlabel('Fake Profile (0 = No, 1 = Yes)', fontsize=12)\n",
    "plt.ylabel('Number of Profiles', fontsize=12)\n",
    "# Add values on bars\n",
    "for p in ax.patches:\n",
    "    ax.annotate(f'{p.get_height():,}', \n",
    "                (p.get_x() + p.get_width() / 2., p.get_height()), \n",
    "                ha = 'center', va = 'bottom', fontsize=12)\n",
    "\n",
    "plt.xticks([0, 1], ['Real (0)', 'Fake (1)'])\n",
    "plt.show()"
   ]
  },
  {
   "cell_type": "code",
   "execution_count": null,
   "metadata": {},
   "outputs": [],
   "source": [
    "# Visualization of real vs fake profiles distribution\n",
    "plt.figure(figsize=(10, 6))\n",
    "ax = sns.countplot(x='fake', data=instagram_df_train, palette=['#3498db', '#e74c3c'])\n",
    "plt.title('Instagram Profile Distribution: Real vs Fake', fontsize=16)\n",
    "plt.xlabel('Fake Profile (0 = No, 1 = Yes)', fontsize=12)\n",
    "plt.ylabel('Number of Profiles', fontsize=12)\n",
    "\n",
    "# Add values on bars\n",
    "for p in ax.patches:\n",
    "    ax.annotate(f'{p.get_height():,}', \n",
    "                (p.get_x() + p.get_width() / 2., p.get_height()), \n",
    "                ha = 'center', va = 'bottom', fontsize=12)\n",
    "\n",
    "plt.xticks([0, 1], ['Real (0)', 'Fake (1)'])\n",
    "plt.show()\n"
   ]
  },
  {
   "cell_type": "code",
   "execution_count": null,
   "metadata": {},
   "outputs": [],
   "source": [
    "# Visualization of real vs fake profiles distribution\n",
    "plt.figure(figsize=(10, 6))\n",
    "ax = sns.countplot(x='fake', data=instagram_df_train, palette=['#3498db', '#e74c3c'])\n",
    "plt.title('Instagram Profile Distribution: Real vs Fake', fontsize=16)\n",
    "plt.xlabel('Fake Profile (0 = No, 1 = Yes)', fontsize=12)\n",
    "plt.ylabel('Number of Profiles', fontsize=12)\n",
    "\n",
    "# Add values on bars\n",
    "for p in ax.patches:\n",
    "    ax.annotate(f'{p.get_height():,}', \n",
    "                (p.get_x() + p.get_width() / 2., p.get_height()), \n",
    "                ha = 'center', va = 'bottom', fontsize=12)\n",
    "\n",
    "plt.xticks([0, 1], ['Real (0)', 'Fake (1)'])\n",
    "plt.show()"
   ]
  },
  {
   "cell_type": "code",
   "execution_count": null,
   "metadata": {},
   "outputs": [],
   "source": [
    "# Visualization of the digits/length ratio distribution of usernames\n",
    "plt.figure(figsize = (14, 8))\n",
    "ax = sns.histplot(instagram_df_train['nums/length username'], bins=30, kde=True, color='#3498db')\n",
    "plt.title('Digits/Length Ratio Distribution of Usernames', fontsize=16)\n",
    "plt.xlabel('Digits/Length Ratio of Username', fontsize=12)\n",
    "plt.ylabel('Frequency', fontsize=12)\n",
    "plt.grid(axis='y', alpha=0.3)\n",
    "\n",
    "# Add a vertical line for the mean\n",
    "mean_val = instagram_df_train['nums/length username'].mean()\n",
    "plt.axvline(x=mean_val, color='#e74c3c', linestyle='--', linewidth=2)\n",
    "plt.text(mean_val + 0.02, plt.ylim()[1]*0.9, f'Mean: {mean_val:.3f}', color='#e74c3c', fontsize=12)\n",
    "\n",
    "plt.show()"
   ]
  },
  {
   "cell_type": "code",
   "execution_count": null,
   "metadata": {},
   "outputs": [],
   "source": [
    "# Visualization of the digits/length ratio distribution of usernames\n",
    "plt.figure(figsize = (14, 8))\n",
    "ax = sns.histplot(instagram_df_train['nums/length username'], bins=30, kde=True, color='#3498db')\n",
    "plt.title('Digits/Length Ratio Distribution of Usernames', fontsize=16)\n",
    "plt.xlabel('Digits/Length Ratio of Username', fontsize=12)\n",
    "plt.ylabel('Frequency', fontsize=12)\n",
    "plt.grid(axis='y', alpha=0.3)\n",
    "\n",
    "# Add a vertical line for the mean\n",
    "mean_val = instagram_df_train['nums/length username'].mean()\n",
    "plt.axvline(x=mean_val, color='#e74c3c', linestyle='--', linewidth=2)\n",
    "plt.text(mean_val + 0.02, plt.ylim()[1]*0.9, f'Mean: {mean_val:.3f}', color='#e74c3c', fontsize=12)\n",
    "\n",
    "plt.show()"
   ]
  },
  {
   "cell_type": "code",
   "execution_count": null,
   "metadata": {},
   "outputs": [],
   "source": [
    "# Enhanced visualization of the correlation matrix\n",
    "plt.figure(figsize=(16, 14))\n",
    "mask = np.triu(instagram_df_train.corr())\n",
    "cmap = sns.diverging_palette(230, 20, as_cmap=True)\n",
    "\n",
    "sns.heatmap(instagram_df_train.corr(), annot=True, fmt='.2f', cmap=cmap, linewidths=0.5, \n",
    "            mask=mask, vmin=-1, vmax=1, center=0, square=True, cbar_kws={\"shrink\": .8})\n",
    "\n",
    "plt.title('Feature Correlation Matrix', fontsize=18, pad=20)\n",
    "plt.tight_layout()\n",
    "plt.show()"
   ]
  },
  {
   "cell_type": "markdown",
   "metadata": {},
   "source": [
    "# Data Modelling"
   ]
  },
  {
   "cell_type": "code",
   "execution_count": null,
   "metadata": {},
   "outputs": [],
   "source": [
    "# Training and testing dataset (inputs)\n",
    "X_train = instagram_df_train.drop(columns = ['fake'])\n",
    "X_test = instagram_df_test.drop(columns = ['fake'])\n",
    "X_train"
   ]
  },
  {
   "cell_type": "code",
   "execution_count": null,
   "metadata": {},
   "outputs": [],
   "source": [
    "# Training and testing dataset (Outputs)\n",
    "y_train = instagram_df_train['fake']\n",
    "y_test = instagram_df_test['fake']\n",
    "y_train"
   ]
  },
  {
   "cell_type": "code",
   "execution_count": null,
   "metadata": {},
   "outputs": [],
   "source": []
  },
  {
   "cell_type": "code",
   "execution_count": null,
   "metadata": {},
   "outputs": [],
   "source": []
  },
  {
   "cell_type": "code",
   "execution_count": null,
   "metadata": {},
   "outputs": [],
   "source": []
  },
  {
   "cell_type": "code",
   "execution_count": null,
   "metadata": {},
   "outputs": [],
   "source": []
  },
  {
   "cell_type": "code",
   "execution_count": null,
   "metadata": {},
   "outputs": [],
   "source": []
  },
  {
   "cell_type": "code",
   "execution_count": null,
   "metadata": {},
   "outputs": [],
   "source": []
  },
  {
   "cell_type": "code",
   "execution_count": null,
   "metadata": {},
   "outputs": [],
   "source": []
  },
  {
   "cell_type": "code",
   "execution_count": null,
   "metadata": {},
   "outputs": [],
   "source": []
  }
 ],
 "metadata": {
  "kaggle": {
   "accelerator": "none",
   "dataSources": [
    {
     "datasetId": 145755,
     "sourceId": 339960,
     "sourceType": "datasetVersion"
    }
   ],
   "dockerImageVersionId": 30357,
   "isGpuEnabled": false,
   "isInternetEnabled": true,
   "language": "python",
   "sourceType": "notebook"
  },
  "kernelspec": {
   "display_name": ".venv",
   "language": "python",
   "name": "python3"
  },
  "language_info": {
   "codemirror_mode": {
    "name": "ipython",
    "version": 3
   },
   "file_extension": ".py",
   "mimetype": "text/x-python",
   "name": "python",
   "nbconvert_exporter": "python",
   "pygments_lexer": "ipython3",
   "version": "3.10.12"
  }
 },
 "nbformat": 4,
 "nbformat_minor": 4
}
