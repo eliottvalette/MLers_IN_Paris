{
 "cells": [
  {
   "cell_type": "markdown",
   "metadata": {},
   "source": [
    "# Importing Libraries and Datasets"
   ]
  },
  {
   "cell_type": "code",
   "execution_count": 1,
   "metadata": {
    "execution": {
     "iopub.execute_input": "2023-01-09T20:08:00.36803Z",
     "iopub.status.busy": "2023-01-09T20:08:00.367522Z",
     "iopub.status.idle": "2023-01-09T20:08:00.380439Z",
     "shell.execute_reply": "2023-01-09T20:08:00.378993Z",
     "shell.execute_reply.started": "2023-01-09T20:08:00.367993Z"
    },
    "trusted": true
   },
   "outputs": [],
   "source": [
    "import pandas as pd\n",
    "import matplotlib.pyplot as plt\n",
    "import numpy as np\n",
    "import seaborn as sns\n",
    "\n",
    "import torch\n",
    "import torch.nn as nn\n",
    "import torch.optim as optim\n",
    "from torch.utils.data import Dataset, DataLoader, TensorDataset\n",
    "\n",
    "from sklearn import metrics\n",
    "from sklearn.preprocessing import LabelEncoder\n",
    "from sklearn.metrics import classification_report, accuracy_score, roc_curve, confusion_matrix\n",
    "\n",
    "import os\n",
    "for dirname, _, filenames in os.walk('/kaggle/input'):\n",
    "    for filename in filenames:\n",
    "        print(os.path.join(dirname, filename))"
   ]
  },
  {
   "cell_type": "code",
   "execution_count": 2,
   "metadata": {
    "execution": {
     "iopub.execute_input": "2023-01-09T20:09:03.490319Z",
     "iopub.status.busy": "2023-01-09T20:09:03.488583Z",
     "iopub.status.idle": "2023-01-09T20:09:03.500151Z",
     "shell.execute_reply": "2023-01-09T20:09:03.49685Z",
     "shell.execute_reply.started": "2023-01-09T20:09:03.490252Z"
    },
    "trusted": true
   },
   "outputs": [],
   "source": [
    "import warnings\n",
    "\n",
    "warnings.filterwarnings(\"ignore\")\n",
    "\n",
    "\n",
    "def fxn():\n",
    "    warnings.warn(\"deprecated\", DeprecationWarning)\n",
    "\n",
    "with warnings.catch_warnings():\n",
    "    warnings.filterwarnings(\"ignore\", category=DeprecationWarning)\n",
    "    fxn()"
   ]
  },
  {
   "cell_type": "code",
   "execution_count": null,
   "metadata": {
    "execution": {
     "iopub.execute_input": "2023-01-09T19:58:40.2889Z",
     "iopub.status.busy": "2023-01-09T19:58:40.288409Z",
     "iopub.status.idle": "2023-01-09T19:58:40.338203Z",
     "shell.execute_reply": "2023-01-09T19:58:40.336787Z",
     "shell.execute_reply.started": "2023-01-09T19:58:40.288863Z"
    },
    "trusted": true
   },
   "outputs": [],
   "source": [
    "# Load the training dataset\n",
    "instagram_df_train=pd.read_csv('kaggle/input/instagram-fake-spammer-genuine-accounts/train.csv')\n",
    "instagram_df_train"
   ]
  },
  {
   "cell_type": "code",
   "execution_count": null,
   "metadata": {
    "execution": {
     "iopub.execute_input": "2023-01-09T19:58:57.31331Z",
     "iopub.status.busy": "2023-01-09T19:58:57.312831Z",
     "iopub.status.idle": "2023-01-09T19:58:57.34216Z",
     "shell.execute_reply": "2023-01-09T19:58:57.340315Z",
     "shell.execute_reply.started": "2023-01-09T19:58:57.313274Z"
    },
    "trusted": true
   },
   "outputs": [],
   "source": [
    "# Load the testing data\n",
    "instagram_df_test=pd.read_csv('kaggle/input/instagram-fake-spammer-genuine-accounts/test.csv')\n",
    "instagram_df_test"
   ]
  },
  {
   "cell_type": "markdown",
   "metadata": {},
   "source": [
    "# Statistical Analysis"
   ]
  },
  {
   "cell_type": "code",
   "execution_count": null,
   "metadata": {
    "execution": {
     "iopub.execute_input": "2023-01-09T19:59:06.376166Z",
     "iopub.status.busy": "2023-01-09T19:59:06.375772Z",
     "iopub.status.idle": "2023-01-09T19:59:06.393933Z",
     "shell.execute_reply": "2023-01-09T19:59:06.392644Z",
     "shell.execute_reply.started": "2023-01-09T19:59:06.376132Z"
    },
    "trusted": true
   },
   "outputs": [],
   "source": [
    "instagram_df_train.head()"
   ]
  },
  {
   "cell_type": "code",
   "execution_count": null,
   "metadata": {
    "execution": {
     "iopub.execute_input": "2023-01-09T19:59:13.569656Z",
     "iopub.status.busy": "2023-01-09T19:59:13.569159Z",
     "iopub.status.idle": "2023-01-09T19:59:13.587483Z",
     "shell.execute_reply": "2023-01-09T19:59:13.586096Z",
     "shell.execute_reply.started": "2023-01-09T19:59:13.569618Z"
    },
    "trusted": true
   },
   "outputs": [],
   "source": [
    "instagram_df_train.tail()"
   ]
  },
  {
   "cell_type": "code",
   "execution_count": null,
   "metadata": {
    "execution": {
     "iopub.execute_input": "2023-01-09T19:59:45.695689Z",
     "iopub.status.busy": "2023-01-09T19:59:45.695233Z",
     "iopub.status.idle": "2023-01-09T19:59:45.72395Z",
     "shell.execute_reply": "2023-01-09T19:59:45.722543Z",
     "shell.execute_reply.started": "2023-01-09T19:59:45.695657Z"
    },
    "trusted": true
   },
   "outputs": [],
   "source": [
    "# Getting dataframe info\n",
    "instagram_df_train.info()"
   ]
  },
  {
   "cell_type": "code",
   "execution_count": null,
   "metadata": {
    "execution": {
     "iopub.execute_input": "2023-01-09T19:59:54.243814Z",
     "iopub.status.busy": "2023-01-09T19:59:54.243317Z",
     "iopub.status.idle": "2023-01-09T19:59:54.292312Z",
     "shell.execute_reply": "2023-01-09T19:59:54.291045Z",
     "shell.execute_reply.started": "2023-01-09T19:59:54.243775Z"
    },
    "trusted": true
   },
   "outputs": [],
   "source": [
    "# Get the statistical summary of the dataframe\n",
    "instagram_df_train.describe()"
   ]
  },
  {
   "cell_type": "code",
   "execution_count": null,
   "metadata": {
    "execution": {
     "iopub.execute_input": "2023-01-09T20:00:02.340612Z",
     "iopub.status.busy": "2023-01-09T20:00:02.339773Z",
     "iopub.status.idle": "2023-01-09T20:00:02.351264Z",
     "shell.execute_reply": "2023-01-09T20:00:02.350023Z",
     "shell.execute_reply.started": "2023-01-09T20:00:02.34057Z"
    },
    "trusted": true
   },
   "outputs": [],
   "source": [
    "# Checking if null values exist\n",
    "instagram_df_train.isnull().sum()"
   ]
  },
  {
   "cell_type": "code",
   "execution_count": null,
   "metadata": {
    "execution": {
     "iopub.execute_input": "2023-01-09T20:00:12.588563Z",
     "iopub.status.busy": "2023-01-09T20:00:12.588073Z",
     "iopub.status.idle": "2023-01-09T20:00:12.598254Z",
     "shell.execute_reply": "2023-01-09T20:00:12.596845Z",
     "shell.execute_reply.started": "2023-01-09T20:00:12.588524Z"
    },
    "trusted": true
   },
   "outputs": [],
   "source": [
    "# Get the number of unique values in the \"profile pic\" feature\n",
    "instagram_df_train['profile pic'].value_counts()"
   ]
  },
  {
   "cell_type": "code",
   "execution_count": null,
   "metadata": {
    "execution": {
     "iopub.execute_input": "2023-01-09T20:00:19.29585Z",
     "iopub.status.busy": "2023-01-09T20:00:19.295383Z",
     "iopub.status.idle": "2023-01-09T20:00:19.304106Z",
     "shell.execute_reply": "2023-01-09T20:00:19.30328Z",
     "shell.execute_reply.started": "2023-01-09T20:00:19.295813Z"
    },
    "trusted": true
   },
   "outputs": [],
   "source": [
    "# Get the number of unique values in \"fake\" (Target column)\n",
    "instagram_df_train['fake'].value_counts()"
   ]
  },
  {
   "cell_type": "markdown",
   "metadata": {},
   "source": [
    "# Data Visualization"
   ]
  },
  {
   "cell_type": "code",
   "execution_count": null,
   "metadata": {
    "execution": {
     "iopub.execute_input": "2023-01-09T20:02:38.519394Z",
     "iopub.status.busy": "2023-01-09T20:02:38.518971Z",
     "iopub.status.idle": "2023-01-09T20:02:38.695204Z",
     "shell.execute_reply": "2023-01-09T20:02:38.693657Z",
     "shell.execute_reply.started": "2023-01-09T20:02:38.51936Z"
    },
    "trusted": true
   },
   "outputs": [],
   "source": [
    "# Visualiser la distribution des profils réels vs faux\n",
    "plt.figure(figsize=(10, 6))\n",
    "ax = sns.countplot(x='fake', data=instagram_df_train, palette=['#3498db', '#e74c3c'])\n",
    "plt.title('Distribution des Profils Instagram: Réels vs Faux', fontsize=16)\n",
    "plt.xlabel('Faux Profil (0 = Non, 1 = Oui)', fontsize=12)\n",
    "plt.ylabel('Nombre de Profils', fontsize=12)\n",
    "\n",
    "# Ajouter les valeurs sur les barres\n",
    "for p in ax.patches:\n",
    "    ax.annotate(f'{p.get_height():,}', \n",
    "                (p.get_x() + p.get_width() / 2., p.get_height()), \n",
    "                ha = 'center', va = 'bottom', fontsize=12)\n",
    "\n",
    "plt.xticks([0, 1], ['Réel (0)', 'Faux (1)'])\n",
    "plt.show()"
   ]
  },
  {
   "cell_type": "code",
   "execution_count": null,
   "metadata": {
    "execution": {
     "iopub.execute_input": "2023-01-09T20:03:09.59151Z",
     "iopub.status.busy": "2023-01-09T20:03:09.591111Z",
     "iopub.status.idle": "2023-01-09T20:03:09.705311Z",
     "shell.execute_reply": "2023-01-09T20:03:09.703224Z",
     "shell.execute_reply.started": "2023-01-09T20:03:09.591478Z"
    },
    "trusted": true
   },
   "outputs": [],
   "source": [
    "# Visualiser la distribution des profils privés vs publics\n",
    "plt.figure(figsize=(10, 6))\n",
    "ax = sns.countplot(x='private', data=instagram_df_train, palette=['#2ecc71', '#9b59b6'])\n",
    "plt.title('Distribution des Profils: Publics vs Privés', fontsize=16)\n",
    "plt.xlabel('Profil Privé (0 = Non, 1 = Oui)', fontsize=12)\n",
    "plt.ylabel('Nombre de Profils', fontsize=12)\n",
    "\n",
    "# Ajouter les valeurs sur les barres\n",
    "for p in ax.patches:\n",
    "    ax.annotate(f'{p.get_height():,}', \n",
    "                (p.get_x() + p.get_width() / 2., p.get_height()), \n",
    "                ha = 'center', va = 'bottom', fontsize=12)\n",
    "    \n",
    "plt.xticks([0, 1], ['Public (0)', 'Privé (1)'])\n",
    "plt.show()"
   ]
  },
  {
   "cell_type": "code",
   "execution_count": null,
   "metadata": {
    "execution": {
     "iopub.execute_input": "2023-01-09T20:02:59.262351Z",
     "iopub.status.busy": "2023-01-09T20:02:59.26195Z",
     "iopub.status.idle": "2023-01-09T20:02:59.400596Z",
     "shell.execute_reply": "2023-01-09T20:02:59.39947Z",
     "shell.execute_reply.started": "2023-01-09T20:02:59.26232Z"
    },
    "trusted": true
   },
   "outputs": [],
   "source": [
    "# Visualiser la distribution des profils avec/sans photo de profil\n",
    "plt.figure(figsize=(10, 6))\n",
    "ax = sns.countplot(x='profile pic', data=instagram_df_train, palette=['#f39c12', '#1abc9c'])\n",
    "plt.title('Distribution des Profils: Avec vs Sans Photo de Profil', fontsize=16)\n",
    "plt.xlabel('Photo de Profil (0 = Non, 1 = Oui)', fontsize=12)\n",
    "plt.ylabel('Nombre de Profils', fontsize=12)\n",
    "\n",
    "# Ajouter les valeurs sur les barres\n",
    "for p in ax.patches:\n",
    "    ax.annotate(f'{p.get_height():,}', \n",
    "                (p.get_x() + p.get_width() / 2., p.get_height()), \n",
    "                ha = 'center', va = 'bottom', fontsize=12)\n",
    "    \n",
    "plt.xticks([0, 1], ['Sans Photo (0)', 'Avec Photo (1)'])\n",
    "plt.show()"
   ]
  },
  {
   "cell_type": "code",
   "execution_count": null,
   "metadata": {
    "execution": {
     "iopub.execute_input": "2023-01-09T20:03:23.079027Z",
     "iopub.status.busy": "2023-01-09T20:03:23.078589Z",
     "iopub.status.idle": "2023-01-09T20:03:23.39246Z",
     "shell.execute_reply": "2023-01-09T20:03:23.39122Z",
     "shell.execute_reply.started": "2023-01-09T20:03:23.078995Z"
    },
    "trusted": true
   },
   "outputs": [],
   "source": [
    "# Visualiser la distribution du ratio chiffres/longueur des noms d'utilisateur\n",
    "plt.figure(figsize = (14, 8))\n",
    "ax = sns.histplot(instagram_df_train['nums/length username'], bins=30, kde=True, color='#3498db')\n",
    "plt.title('Distribution du Ratio Chiffres/Longueur des Noms d\\'Utilisateur', fontsize=16)\n",
    "plt.xlabel('Ratio Chiffres/Longueur du Nom d\\'Utilisateur', fontsize=12)\n",
    "plt.ylabel('Fréquence', fontsize=12)\n",
    "plt.grid(axis='y', alpha=0.3)\n",
    "\n",
    "# Ajouter une ligne verticale pour la moyenne\n",
    "mean_val = instagram_df_train['nums/length username'].mean()\n",
    "plt.axvline(x=mean_val, color='#e74c3c', linestyle='--', linewidth=2)\n",
    "plt.text(mean_val + 0.02, plt.ylim()[1]*0.9, f'Moyenne: {mean_val:.3f}', color='#e74c3c', fontsize=12)\n",
    "\n",
    "plt.show()"
   ]
  },
  {
   "cell_type": "code",
   "execution_count": null,
   "metadata": {},
   "outputs": [],
   "source": [
    "# Visualiser différemment: Distribution du ratio chiffres/longueur par type de profil\n",
    "plt.figure(figsize = (14, 8))\n",
    "sns.boxplot(x='fake', y='nums/length username', data=instagram_df_train, palette=['#3498db', '#e74c3c'])\n",
    "plt.title('Distribution du Ratio Chiffres/Longueur par Type de Profil', fontsize=16)\n",
    "plt.xlabel('Type de Profil', fontsize=12)\n",
    "plt.ylabel('Ratio Chiffres/Longueur du Nom d\\'Utilisateur', fontsize=12)\n",
    "plt.xticks([0, 1], ['Réel (0)', 'Faux (1)'])\n",
    "plt.grid(axis='y', alpha=0.3)\n",
    "plt.show()"
   ]
  },
  {
   "cell_type": "code",
   "execution_count": null,
   "metadata": {
    "execution": {
     "iopub.execute_input": "2023-01-09T20:03:26.794175Z",
     "iopub.status.busy": "2023-01-09T20:03:26.793198Z",
     "iopub.status.idle": "2023-01-09T20:03:27.83194Z",
     "shell.execute_reply": "2023-01-09T20:03:27.830766Z",
     "shell.execute_reply.started": "2023-01-09T20:03:26.794129Z"
    },
    "trusted": true
   },
   "outputs": [],
   "source": [
    "# Visualisation améliorée de la matrice de corrélation\n",
    "plt.figure(figsize=(16, 14))\n",
    "mask = np.triu(instagram_df_train.corr())\n",
    "cmap = sns.diverging_palette(230, 20, as_cmap=True)\n",
    "\n",
    "sns.heatmap(instagram_df_train.corr(), annot=True, fmt='.2f', cmap=cmap, linewidths=0.5, \n",
    "            mask=mask, vmin=-1, vmax=1, center=0, square=True, cbar_kws={\"shrink\": .8})\n",
    "\n",
    "plt.title('Matrice de Corrélation des Caractéristiques', fontsize=18, pad=20)\n",
    "plt.tight_layout()\n",
    "plt.show()"
   ]
  },
  {
   "cell_type": "markdown",
   "metadata": {},
   "source": [
    "# Data Modelling"
   ]
  },
  {
   "cell_type": "code",
   "execution_count": null,
   "metadata": {
    "execution": {
     "iopub.execute_input": "2023-01-09T20:03:45.215435Z",
     "iopub.status.busy": "2023-01-09T20:03:45.214922Z",
     "iopub.status.idle": "2023-01-09T20:03:45.245038Z",
     "shell.execute_reply": "2023-01-09T20:03:45.243252Z",
     "shell.execute_reply.started": "2023-01-09T20:03:45.215396Z"
    },
    "trusted": true
   },
   "outputs": [],
   "source": [
    "# Training and testing dataset (inputs)\n",
    "X_train = instagram_df_train.drop(columns = ['fake'])\n",
    "X_test = instagram_df_test.drop(columns = ['fake'])\n",
    "X_train"
   ]
  },
  {
   "cell_type": "code",
   "execution_count": null,
   "metadata": {
    "execution": {
     "iopub.execute_input": "2023-01-09T20:04:13.818554Z",
     "iopub.status.busy": "2023-01-09T20:04:13.818141Z",
     "iopub.status.idle": "2023-01-09T20:04:13.827519Z",
     "shell.execute_reply": "2023-01-09T20:04:13.826444Z",
     "shell.execute_reply.started": "2023-01-09T20:04:13.81852Z"
    },
    "trusted": true
   },
   "outputs": [],
   "source": [
    "# Training and testing dataset (Outputs)\n",
    "y_train = instagram_df_train['fake']\n",
    "y_test = instagram_df_test['fake']\n",
    "y_train"
   ]
  },
  {
   "cell_type": "code",
   "execution_count": 20,
   "metadata": {
    "execution": {
     "iopub.execute_input": "2023-01-09T20:04:30.477314Z",
     "iopub.status.busy": "2023-01-09T20:04:30.476669Z",
     "iopub.status.idle": "2023-01-09T20:04:30.49542Z",
     "shell.execute_reply": "2023-01-09T20:04:30.494482Z",
     "shell.execute_reply.started": "2023-01-09T20:04:30.477264Z"
    },
    "trusted": true
   },
   "outputs": [],
   "source": [
    "# Scale the data before training the model\n",
    "from sklearn.preprocessing import StandardScaler, MinMaxScaler\n",
    "\n",
    "scaler_x = StandardScaler()\n",
    "X_train = scaler_x.fit_transform(X_train)\n",
    "X_test = scaler_x.transform(X_test)"
   ]
  },
  {
   "cell_type": "code",
   "execution_count": 21,
   "metadata": {
    "execution": {
     "iopub.execute_input": "2023-01-09T20:04:37.622179Z",
     "iopub.status.busy": "2023-01-09T20:04:37.620566Z",
     "iopub.status.idle": "2023-01-09T20:04:37.629724Z",
     "shell.execute_reply": "2023-01-09T20:04:37.628214Z",
     "shell.execute_reply.started": "2023-01-09T20:04:37.622107Z"
    },
    "trusted": true
   },
   "outputs": [],
   "source": [
    "# Convertir en tenseurs PyTorch\n",
    "X_train_tensor = torch.FloatTensor(X_train)\n",
    "X_test_tensor = torch.FloatTensor(X_test)"
   ]
  },
  {
   "cell_type": "code",
   "execution_count": 22,
   "metadata": {
    "execution": {
     "iopub.execute_input": "2023-01-09T20:04:44.944684Z",
     "iopub.status.busy": "2023-01-09T20:04:44.944263Z",
     "iopub.status.idle": "2023-01-09T20:04:44.952885Z",
     "shell.execute_reply": "2023-01-09T20:04:44.951652Z",
     "shell.execute_reply.started": "2023-01-09T20:04:44.944649Z"
    },
    "trusted": true
   },
   "outputs": [],
   "source": [
    "# Convertir les labels en one-hot encoding\n",
    "y_train_tensor = torch.zeros(len(y_train), 2)\n",
    "y_train_tensor[range(len(y_train)), y_train.astype(int)] = 1\n",
    "y_test_tensor = torch.zeros(len(y_test), 2)\n",
    "y_test_tensor[range(len(y_test)), y_test.astype(int)] = 1"
   ]
  },
  {
   "cell_type": "code",
   "execution_count": 23,
   "metadata": {},
   "outputs": [],
   "source": [
    "# Créer des datasets PyTorch\n",
    "train_dataset = TensorDataset(X_train_tensor, y_train_tensor)\n",
    "test_dataset = TensorDataset(X_test_tensor, y_test_tensor)"
   ]
  },
  {
   "cell_type": "code",
   "execution_count": 24,
   "metadata": {},
   "outputs": [],
   "source": [
    "# Créer des dataloaders\n",
    "batch_size = 32\n",
    "train_loader = DataLoader(dataset=train_dataset, batch_size=batch_size, shuffle=True)\n",
    "test_loader = DataLoader(dataset=test_dataset, batch_size=batch_size, shuffle=False)"
   ]
  },
  {
   "cell_type": "code",
   "execution_count": 25,
   "metadata": {
    "execution": {
     "iopub.execute_input": "2023-01-09T20:05:06.690819Z",
     "iopub.status.busy": "2023-01-09T20:05:06.690379Z",
     "iopub.status.idle": "2023-01-09T20:05:06.863302Z",
     "shell.execute_reply": "2023-01-09T20:05:06.861599Z",
     "shell.execute_reply.started": "2023-01-09T20:05:06.690784Z"
    },
    "trusted": true
   },
   "outputs": [],
   "source": [
    "# Définition du modèle PyTorch\n",
    "class NeuralNetwork(nn.Module):\n",
    "    def __init__(self, input_dim=11):\n",
    "        super(NeuralNetwork, self).__init__()\n",
    "        self.layer1 = nn.Linear(input_dim, 50)\n",
    "        self.layer2 = nn.Linear(50, 150)\n",
    "        self.layer3 = nn.Linear(150, 150)\n",
    "        self.layer4 = nn.Linear(150, 25)\n",
    "        self.layer5 = nn.Linear(25, 2)\n",
    "        \n",
    "        self.relu = nn.ReLU()\n",
    "        self.dropout = nn.Dropout(0.3)\n",
    "        self.softmax = nn.Softmax(dim=1)\n",
    "        \n",
    "    def forward(self, x):\n",
    "        x = self.relu(self.layer1(x))\n",
    "        x = self.relu(self.layer2(x))\n",
    "        x = self.dropout(x)\n",
    "        x = self.relu(self.layer3(x))\n",
    "        x = self.dropout(x)\n",
    "        x = self.relu(self.layer4(x))\n",
    "        x = self.dropout(x)\n",
    "        x = self.softmax(self.layer5(x))\n",
    "        return x"
   ]
  },
  {
   "cell_type": "code",
   "execution_count": null,
   "metadata": {
    "execution": {
     "iopub.execute_input": "2023-01-09T20:05:17.10528Z",
     "iopub.status.busy": "2023-01-09T20:05:17.104824Z",
     "iopub.status.idle": "2023-01-09T20:05:17.123556Z",
     "shell.execute_reply": "2023-01-09T20:05:17.12202Z",
     "shell.execute_reply.started": "2023-01-09T20:05:17.105245Z"
    },
    "trusted": true
   },
   "outputs": [],
   "source": [
    "# Créer le modèle\n",
    "model = NeuralNetwork()\n",
    "print(model)"
   ]
  },
  {
   "cell_type": "code",
   "execution_count": 27,
   "metadata": {
    "execution": {
     "iopub.execute_input": "2023-01-09T20:05:24.746689Z",
     "iopub.status.busy": "2023-01-09T20:05:24.746101Z",
     "iopub.status.idle": "2023-01-09T20:05:31.368224Z",
     "shell.execute_reply": "2023-01-09T20:05:31.36678Z",
     "shell.execute_reply.started": "2023-01-09T20:05:24.746646Z"
    },
    "trusted": true
   },
   "outputs": [],
   "source": [
    "# Définir la fonction de perte et l'optimiseur\n",
    "criterion = nn.CrossEntropyLoss()\n",
    "optimizer = optim.Adam(model.parameters(), lr=0.001)"
   ]
  },
  {
   "cell_type": "code",
   "execution_count": 28,
   "metadata": {},
   "outputs": [],
   "source": [
    "# Entraînement du modèle\n",
    "device = torch.device(\"cuda:0\" if torch.cuda.is_available() else \"cpu\")\n",
    "model.to(device)\n",
    "\n",
    "num_epochs = 50\n",
    "history = {'train_loss': [], 'val_loss': []}"
   ]
  },
  {
   "cell_type": "code",
   "execution_count": 29,
   "metadata": {},
   "outputs": [],
   "source": [
    "# Validation split\n",
    "val_size = int(0.1 * len(train_dataset))\n",
    "train_size = len(train_dataset) - val_size\n",
    "train_subset, val_subset = torch.utils.data.random_split(train_dataset, [train_size, val_size])\n",
    "train_loader = DataLoader(dataset=train_subset, batch_size=batch_size, shuffle=True)\n",
    "val_loader = DataLoader(dataset=val_subset, batch_size=batch_size, shuffle=False)"
   ]
  },
  {
   "cell_type": "code",
   "execution_count": null,
   "metadata": {},
   "outputs": [],
   "source": [
    "for epoch in range(num_epochs):\n",
    "    # Training\n",
    "    model.train()\n",
    "    running_loss = 0.0\n",
    "    for i, (inputs, labels) in enumerate(train_loader):\n",
    "        inputs, labels = inputs.to(device), labels.to(device)\n",
    "        \n",
    "        # Forward pass\n",
    "        outputs = model(inputs)\n",
    "        loss = criterion(outputs, labels)\n",
    "        \n",
    "        # Backward and optimize\n",
    "        optimizer.zero_grad()\n",
    "        loss.backward()\n",
    "        optimizer.step()\n",
    "        \n",
    "        running_loss += loss.item()\n",
    "    \n",
    "    epoch_loss = running_loss / len(train_loader)\n",
    "    history['train_loss'].append(epoch_loss)\n",
    "    \n",
    "    # Validation\n",
    "    model.eval()\n",
    "    val_loss = 0.0\n",
    "    with torch.no_grad():\n",
    "        for inputs, labels in val_loader:\n",
    "            inputs, labels = inputs.to(device), labels.to(device)\n",
    "            outputs = model(inputs)\n",
    "            loss = criterion(outputs, labels)\n",
    "            val_loss += loss.item()\n",
    "    \n",
    "    val_loss = val_loss / len(val_loader)\n",
    "    history['val_loss'].append(val_loss)\n",
    "    \n",
    "    print(f'Epoch [{epoch+1}/{num_epochs}], Train Loss: {epoch_loss:.4f}, Val Loss: {val_loss:.4f}')"
   ]
  },
  {
   "cell_type": "markdown",
   "metadata": {},
   "source": [
    "# Model Validation and Results"
   ]
  },
  {
   "cell_type": "code",
   "execution_count": null,
   "metadata": {
    "execution": {
     "iopub.execute_input": "2023-01-09T20:05:43.141779Z",
     "iopub.status.busy": "2023-01-09T20:05:43.14134Z",
     "iopub.status.idle": "2023-01-09T20:05:43.149026Z",
     "shell.execute_reply": "2023-01-09T20:05:43.147534Z",
     "shell.execute_reply.started": "2023-01-09T20:05:43.141747Z"
    },
    "trusted": true
   },
   "outputs": [],
   "source": [
    "print(history.keys())"
   ]
  },
  {
   "cell_type": "code",
   "execution_count": null,
   "metadata": {
    "execution": {
     "iopub.execute_input": "2023-01-09T20:05:49.415277Z",
     "iopub.status.busy": "2023-01-09T20:05:49.414855Z",
     "iopub.status.idle": "2023-01-09T20:05:49.629117Z",
     "shell.execute_reply": "2023-01-09T20:05:49.62818Z",
     "shell.execute_reply.started": "2023-01-09T20:05:49.415244Z"
    },
    "trusted": true
   },
   "outputs": [],
   "source": [
    "# Visualisation améliorée de la progression des pertes\n",
    "plt.figure(figsize=(12, 7))\n",
    "epochs = range(1, len(history['train_loss']) + 1)\n",
    "\n",
    "plt.plot(epochs, history['train_loss'], 'b-', linewidth=2, label='Perte Entraînement')\n",
    "plt.plot(epochs, history['val_loss'], 'r-', linewidth=2, label='Perte Validation')\n",
    "\n",
    "plt.title('Évolution des Pertes Pendant l\\'Entraînement et la Validation', fontsize=16)\n",
    "plt.ylabel('Perte', fontsize=14)\n",
    "plt.xlabel('Époque', fontsize=14)\n",
    "plt.grid(True, linestyle='--', alpha=0.6)\n",
    "plt.legend(fontsize=12)\n",
    "\n",
    "min_val_loss = min(history['val_loss'])\n",
    "min_val_epoch = history['val_loss'].index(min_val_loss) + 1\n",
    "plt.plot(min_val_epoch, min_val_loss, 'ro', markersize=8)\n",
    "plt.annotate(f'Min: {min_val_loss:.4f}', \n",
    "             xy=(min_val_epoch, min_val_loss),\n",
    "             xytext=(min_val_epoch+1, min_val_loss+0.05),\n",
    "             arrowprops=dict(facecolor='black', shrink=0.05, width=1.5),\n",
    "             fontsize=10)\n",
    "\n",
    "plt.show()"
   ]
  },
  {
   "cell_type": "code",
   "execution_count": 33,
   "metadata": {
    "execution": {
     "iopub.execute_input": "2023-01-09T20:05:57.146978Z",
     "iopub.status.busy": "2023-01-09T20:05:57.146452Z",
     "iopub.status.idle": "2023-01-09T20:05:57.320624Z",
     "shell.execute_reply": "2023-01-09T20:05:57.31936Z",
     "shell.execute_reply.started": "2023-01-09T20:05:57.14694Z"
    },
    "trusted": true
   },
   "outputs": [],
   "source": [
    "# Prédiction sur l'ensemble de test\n",
    "model.eval()\n",
    "predicted = []\n",
    "test_targets = []\n",
    "\n",
    "with torch.no_grad():\n",
    "    for inputs, labels in test_loader:\n",
    "        inputs = inputs.to(device)\n",
    "        outputs = model(inputs)\n",
    "        _, predicted_batch = torch.max(outputs, 1)\n",
    "        _, labels_batch = torch.max(labels, 1)\n",
    "        \n",
    "        predicted.extend(predicted_batch.cpu().numpy())\n",
    "        test_targets.extend(labels_batch.numpy())"
   ]
  },
  {
   "cell_type": "code",
   "execution_count": null,
   "metadata": {
    "execution": {
     "iopub.execute_input": "2023-01-09T20:06:04.482355Z",
     "iopub.status.busy": "2023-01-09T20:06:04.481396Z",
     "iopub.status.idle": "2023-01-09T20:06:04.492917Z",
     "shell.execute_reply": "2023-01-09T20:06:04.491718Z",
     "shell.execute_reply.started": "2023-01-09T20:06:04.482269Z"
    },
    "trusted": true
   },
   "outputs": [],
   "source": [
    "# Évaluation du modèle\n",
    "print(classification_report(test_targets, predicted))"
   ]
  },
  {
   "cell_type": "code",
   "execution_count": null,
   "metadata": {
    "execution": {
     "iopub.execute_input": "2023-01-09T20:06:12.390647Z",
     "iopub.status.busy": "2023-01-09T20:06:12.390176Z",
     "iopub.status.idle": "2023-01-09T20:06:12.40565Z",
     "shell.execute_reply": "2023-01-09T20:06:12.404132Z",
     "shell.execute_reply.started": "2023-01-09T20:06:12.390603Z"
    },
    "trusted": true
   },
   "outputs": [],
   "source": [
    "# Visualisation améliorée de la matrice de confusion\n",
    "plt.figure(figsize=(10, 8))\n",
    "cm = confusion_matrix(test_targets, predicted)\n",
    "labels = ['Réel (0)', 'Faux (1)']\n",
    "\n",
    "# Calculer les pourcentages pour l'affichage\n",
    "cm_percent = cm.astype('float') / cm.sum(axis=1)[:, np.newaxis] * 100\n",
    "\n",
    "# Définir les annotations personnalisées\n",
    "annot = np.empty_like(cm).astype(str)\n",
    "for i in range(cm.shape[0]):\n",
    "    for j in range(cm.shape[1]):\n",
    "        annot[i, j] = f'{cm[i, j]}\\n({cm_percent[i, j]:.1f}%)'\n",
    "\n",
    "ax = sns.heatmap(cm, annot=annot, fmt='', cmap='Blues', linewidths=1, linecolor='black',\n",
    "                 xticklabels=labels, yticklabels=labels, cbar=False, annot_kws={\"size\": 12})\n",
    "\n",
    "plt.title('Matrice de Confusion', fontsize=16, pad=20)\n",
    "plt.xlabel('Valeurs Prédites', fontsize=14)\n",
    "plt.ylabel('Valeurs Réelles', fontsize=14)\n",
    "plt.tight_layout()\n",
    "\n",
    "# Ajouter l'accuracy globale\n",
    "accuracy = np.trace(cm) / np.sum(cm) * 100\n",
    "plt.figtext(0.5, 0.01, f'Précision Globale: {accuracy:.2f}%', ha='center', fontsize=12)\n",
    "\n",
    "plt.show()"
   ]
  },
  {
   "cell_type": "code",
   "execution_count": null,
   "metadata": {},
   "outputs": [],
   "source": [
    "# Visualisation de la courbe ROC\n",
    "model.eval()\n",
    "y_true = []\n",
    "y_pred_proba = []\n",
    "\n",
    "with torch.no_grad():\n",
    "    for inputs, labels in test_loader:\n",
    "        inputs = inputs.to(device)\n",
    "        outputs = model(inputs)\n",
    "        \n",
    "        _, labels_batch = torch.max(labels, 1)\n",
    "        y_true.extend(labels_batch.numpy())\n",
    "        y_pred_proba.extend(outputs.cpu().numpy()[:, 1])\n",
    "\n",
    "# Calculer la courbe ROC\n",
    "fpr, tpr, thresholds = roc_curve(y_true, y_pred_proba)\n",
    "roc_auc = metrics.auc(fpr, tpr)\n",
    "\n",
    "# Tracer la courbe ROC\n",
    "plt.figure(figsize=(10, 8))\n",
    "plt.plot(fpr, tpr, color='darkorange', lw=2, label=f'Courbe ROC (AUC = {roc_auc:.3f})')\n",
    "plt.plot([0, 1], [0, 1], color='navy', lw=2, linestyle='--', label='Ligne de référence')\n",
    "plt.xlim([0.0, 1.0])\n",
    "plt.ylim([0.0, 1.05])\n",
    "plt.xlabel('Taux de Faux Positifs', fontsize=12)\n",
    "plt.ylabel('Taux de Vrais Positifs', fontsize=12)\n",
    "plt.title('Courbe ROC (Receiver Operating Characteristic)', fontsize=16)\n",
    "plt.legend(loc=\"lower right\", fontsize=12)\n",
    "plt.grid(True, linestyle='--', alpha=0.6)\n",
    "plt.tight_layout()\n",
    "plt.show()"
   ]
  },
  {
   "cell_type": "code",
   "execution_count": null,
   "metadata": {},
   "outputs": [],
   "source": [
    "# Visualisation des métriques de classification par classe\n",
    "report = classification_report(test_targets, predicted, output_dict=True)\n",
    "report_df = pd.DataFrame(report).transpose()\n",
    "report_df = report_df.drop('accuracy', errors='ignore')\n",
    "\n",
    "plt.figure(figsize=(12, 8))\n",
    "ax = sns.heatmap(report_df.iloc[:-1, :].astype(float), annot=True, cmap='YlGnBu', fmt='.3f')\n",
    "plt.title('Métriques de Classification par Classe', fontsize=16)\n",
    "plt.tight_layout()\n",
    "plt.show()"
   ]
  }
 ],
 "metadata": {
  "kaggle": {
   "accelerator": "none",
   "dataSources": [
    {
     "datasetId": 145755,
     "sourceId": 339960,
     "sourceType": "datasetVersion"
    }
   ],
   "dockerImageVersionId": 30357,
   "isGpuEnabled": false,
   "isInternetEnabled": true,
   "language": "python",
   "sourceType": "notebook"
  },
  "kernelspec": {
   "display_name": ".venv",
   "language": "python",
   "name": "python3"
  },
  "language_info": {
   "codemirror_mode": {
    "name": "ipython",
    "version": 3
   },
   "file_extension": ".py",
   "mimetype": "text/x-python",
   "name": "python",
   "nbconvert_exporter": "python",
   "pygments_lexer": "ipython3",
   "version": "3.10.12"
  }
 },
 "nbformat": 4,
 "nbformat_minor": 4
}
